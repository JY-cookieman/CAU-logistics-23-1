{
 "cells": [
  {
   "cell_type": "code",
   "execution_count": 1,
   "id": "85902049",
   "metadata": {},
   "outputs": [
    {
     "name": "stdout",
     "output_type": "stream",
     "text": [
      "Collecting selenium\n",
      "  Downloading selenium-4.9.1-py3-none-any.whl (6.6 MB)\n",
      "Collecting trio-websocket~=0.9\n",
      "  Downloading trio_websocket-0.10.2-py3-none-any.whl (17 kB)\n",
      "Requirement already satisfied: certifi>=2021.10.8 in c:\\users\\cau\\anaconda3\\lib\\site-packages (from selenium) (2022.9.24)\n",
      "Requirement already satisfied: urllib3[socks]<3,>=1.26 in c:\\users\\cau\\anaconda3\\lib\\site-packages (from selenium) (1.26.7)\n",
      "Collecting trio~=0.17\n",
      "  Downloading trio-0.22.0-py3-none-any.whl (384 kB)\n",
      "Requirement already satisfied: cffi>=1.14 in c:\\users\\cau\\anaconda3\\lib\\site-packages (from trio~=0.17->selenium) (1.14.6)\n",
      "Requirement already satisfied: async-generator>=1.9 in c:\\users\\cau\\anaconda3\\lib\\site-packages (from trio~=0.17->selenium) (1.10)\n",
      "Requirement already satisfied: attrs>=19.2.0 in c:\\users\\cau\\anaconda3\\lib\\site-packages (from trio~=0.17->selenium) (21.2.0)\n",
      "Collecting exceptiongroup>=1.0.0rc9\n",
      "  Downloading exceptiongroup-1.1.1-py3-none-any.whl (14 kB)\n",
      "Collecting outcome\n",
      "  Downloading outcome-1.2.0-py2.py3-none-any.whl (9.7 kB)\n",
      "Requirement already satisfied: sortedcontainers in c:\\users\\cau\\anaconda3\\lib\\site-packages (from trio~=0.17->selenium) (2.4.0)\n",
      "Requirement already satisfied: sniffio in c:\\users\\cau\\anaconda3\\lib\\site-packages (from trio~=0.17->selenium) (1.2.0)\n",
      "Requirement already satisfied: idna in c:\\users\\cau\\anaconda3\\lib\\site-packages (from trio~=0.17->selenium) (3.2)\n",
      "Requirement already satisfied: pycparser in c:\\users\\cau\\anaconda3\\lib\\site-packages (from cffi>=1.14->trio~=0.17->selenium) (2.20)\n",
      "Collecting wsproto>=0.14\n",
      "  Downloading wsproto-1.2.0-py3-none-any.whl (24 kB)\n",
      "Requirement already satisfied: PySocks!=1.5.7,<2.0,>=1.5.6 in c:\\users\\cau\\anaconda3\\lib\\site-packages (from urllib3[socks]<3,>=1.26->selenium) (1.7.1)\n",
      "Collecting h11<1,>=0.9.0\n",
      "  Downloading h11-0.14.0-py3-none-any.whl (58 kB)\n",
      "Installing collected packages: outcome, h11, exceptiongroup, wsproto, trio, trio-websocket, selenium\n",
      "Successfully installed exceptiongroup-1.1.1 h11-0.14.0 outcome-1.2.0 selenium-4.9.1 trio-0.22.0 trio-websocket-0.10.2 wsproto-1.2.0\n",
      "Note: you may need to restart the kernel to use updated packages.\n"
     ]
    }
   ],
   "source": [
    "pip install selenium"
   ]
  },
  {
   "cell_type": "code",
   "execution_count": 3,
   "id": "51bbd910",
   "metadata": {},
   "outputs": [
    {
     "name": "stderr",
     "output_type": "stream",
     "text": [
      "C:\\Users\\CAU\\AppData\\Local\\Temp/ipykernel_14784/3058055028.py:2: DeprecationWarning: executable_path has been deprecated, please pass in a Service object\n",
      "  driver =webdriver.Chrome('C:/Users/CAU/Documents/GitHub/CAU-logistics-23-1')\n"
     ]
    }
   ],
   "source": [
    "from selenium import webdriver\n",
    "driver =webdriver.Chrome('C:/Users/CAU/Documents/GitHub/CAU-logistics-23-1')\n",
    "driver.implicitly_wait(3)"
   ]
  },
  {
   "cell_type": "code",
   "execution_count": 4,
   "id": "7f815b8c",
   "metadata": {},
   "outputs": [],
   "source": [
    "driver.get('https://sports.news.naver.com/wfootball/news/index?isphoto=N')"
   ]
  },
  {
   "cell_type": "code",
   "execution_count": 5,
   "id": "def18bec",
   "metadata": {},
   "outputs": [
    {
     "data": {
      "text/plain": [
       "<selenium.webdriver.remote.webelement.WebElement (session=\"3989b2bddb2b8ed382b8435d54c2daae\", element=\"15B38C7D1B2EEF00C65CC53C38711E83_element_134\")>"
      ]
     },
     "execution_count": 5,
     "metadata": {},
     "output_type": "execute_result"
    }
   ],
   "source": [
    "driver.find_element(\"css selector\", \"#_newsList > ul > li > div > a > span\")"
   ]
  },
  {
   "cell_type": "code",
   "execution_count": 6,
   "id": "c482638e",
   "metadata": {},
   "outputs": [
    {
     "data": {
      "text/plain": [
       "[<selenium.webdriver.remote.webelement.WebElement (session=\"3989b2bddb2b8ed382b8435d54c2daae\", element=\"15B38C7D1B2EEF00C65CC53C38711E83_element_134\")>,\n",
       " <selenium.webdriver.remote.webelement.WebElement (session=\"3989b2bddb2b8ed382b8435d54c2daae\", element=\"15B38C7D1B2EEF00C65CC53C38711E83_element_135\")>,\n",
       " <selenium.webdriver.remote.webelement.WebElement (session=\"3989b2bddb2b8ed382b8435d54c2daae\", element=\"15B38C7D1B2EEF00C65CC53C38711E83_element_136\")>,\n",
       " <selenium.webdriver.remote.webelement.WebElement (session=\"3989b2bddb2b8ed382b8435d54c2daae\", element=\"15B38C7D1B2EEF00C65CC53C38711E83_element_137\")>,\n",
       " <selenium.webdriver.remote.webelement.WebElement (session=\"3989b2bddb2b8ed382b8435d54c2daae\", element=\"15B38C7D1B2EEF00C65CC53C38711E83_element_138\")>,\n",
       " <selenium.webdriver.remote.webelement.WebElement (session=\"3989b2bddb2b8ed382b8435d54c2daae\", element=\"15B38C7D1B2EEF00C65CC53C38711E83_element_139\")>,\n",
       " <selenium.webdriver.remote.webelement.WebElement (session=\"3989b2bddb2b8ed382b8435d54c2daae\", element=\"15B38C7D1B2EEF00C65CC53C38711E83_element_140\")>,\n",
       " <selenium.webdriver.remote.webelement.WebElement (session=\"3989b2bddb2b8ed382b8435d54c2daae\", element=\"15B38C7D1B2EEF00C65CC53C38711E83_element_141\")>,\n",
       " <selenium.webdriver.remote.webelement.WebElement (session=\"3989b2bddb2b8ed382b8435d54c2daae\", element=\"15B38C7D1B2EEF00C65CC53C38711E83_element_142\")>,\n",
       " <selenium.webdriver.remote.webelement.WebElement (session=\"3989b2bddb2b8ed382b8435d54c2daae\", element=\"15B38C7D1B2EEF00C65CC53C38711E83_element_143\")>,\n",
       " <selenium.webdriver.remote.webelement.WebElement (session=\"3989b2bddb2b8ed382b8435d54c2daae\", element=\"15B38C7D1B2EEF00C65CC53C38711E83_element_144\")>,\n",
       " <selenium.webdriver.remote.webelement.WebElement (session=\"3989b2bddb2b8ed382b8435d54c2daae\", element=\"15B38C7D1B2EEF00C65CC53C38711E83_element_145\")>,\n",
       " <selenium.webdriver.remote.webelement.WebElement (session=\"3989b2bddb2b8ed382b8435d54c2daae\", element=\"15B38C7D1B2EEF00C65CC53C38711E83_element_146\")>,\n",
       " <selenium.webdriver.remote.webelement.WebElement (session=\"3989b2bddb2b8ed382b8435d54c2daae\", element=\"15B38C7D1B2EEF00C65CC53C38711E83_element_147\")>,\n",
       " <selenium.webdriver.remote.webelement.WebElement (session=\"3989b2bddb2b8ed382b8435d54c2daae\", element=\"15B38C7D1B2EEF00C65CC53C38711E83_element_148\")>,\n",
       " <selenium.webdriver.remote.webelement.WebElement (session=\"3989b2bddb2b8ed382b8435d54c2daae\", element=\"15B38C7D1B2EEF00C65CC53C38711E83_element_149\")>,\n",
       " <selenium.webdriver.remote.webelement.WebElement (session=\"3989b2bddb2b8ed382b8435d54c2daae\", element=\"15B38C7D1B2EEF00C65CC53C38711E83_element_150\")>,\n",
       " <selenium.webdriver.remote.webelement.WebElement (session=\"3989b2bddb2b8ed382b8435d54c2daae\", element=\"15B38C7D1B2EEF00C65CC53C38711E83_element_151\")>,\n",
       " <selenium.webdriver.remote.webelement.WebElement (session=\"3989b2bddb2b8ed382b8435d54c2daae\", element=\"15B38C7D1B2EEF00C65CC53C38711E83_element_152\")>,\n",
       " <selenium.webdriver.remote.webelement.WebElement (session=\"3989b2bddb2b8ed382b8435d54c2daae\", element=\"15B38C7D1B2EEF00C65CC53C38711E83_element_153\")>]"
      ]
     },
     "execution_count": 6,
     "metadata": {},
     "output_type": "execute_result"
    }
   ],
   "source": [
    "driver.find_elements(\"css selector\", \"#_newsList > ul > li > div > a > span\")"
   ]
  },
  {
   "cell_type": "code",
   "execution_count": null,
   "id": "24138d80",
   "metadata": {},
   "outputs": [],
   "source": []
  }
 ],
 "metadata": {
  "kernelspec": {
   "display_name": "Python 3 (ipykernel)",
   "language": "python",
   "name": "python3"
  },
  "language_info": {
   "codemirror_mode": {
    "name": "ipython",
    "version": 3
   },
   "file_extension": ".py",
   "mimetype": "text/x-python",
   "name": "python",
   "nbconvert_exporter": "python",
   "pygments_lexer": "ipython3",
   "version": "3.8.8"
  }
 },
 "nbformat": 4,
 "nbformat_minor": 5
}
